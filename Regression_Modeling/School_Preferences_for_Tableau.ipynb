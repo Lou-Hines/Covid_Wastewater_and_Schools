{
 "cells": [
  {
   "cell_type": "code",
   "execution_count": 1,
   "id": "b7fb498f",
   "metadata": {},
   "outputs": [
    {
     "name": "stdout",
     "output_type": "stream",
     "text": [
      "school_modes.csv has been created successfully!\n"
     ]
    }
   ],
   "source": [
    "import csv\n",
    "\n",
    "filename = \"data/school_modes.csv\"\n",
    "\n",
    "header = ['School Mode', 'Number of Students']\n",
    "rows = [\n",
    "    ['Fully Remote', 264000],\n",
    "    ['Hybrid', 736000],\n",
    "    ['Unknown (Charter)', 120000]\n",
    "]\n",
    "\n",
    "with open(filename, mode='w', newline='') as file:\n",
    "    writer = csv.writer(file)\n",
    "    writer.writerow(header)\n",
    "    writer.writerows(rows)\n",
    "\n",
    "print(f\"{filename} has been created successfully!\")"
   ]
  },
  {
   "cell_type": "code",
   "execution_count": 2,
   "id": "b3d63e5a",
   "metadata": {},
   "outputs": [],
   "source": [
    "import pandas as pd\n",
    "\n",
    "df = pd.read_csv('school_modes.csv')"
   ]
  },
  {
   "cell_type": "code",
   "execution_count": 3,
   "id": "4f16e18d",
   "metadata": {},
   "outputs": [
    {
     "data": {
      "text/html": [
       "<div>\n",
       "<style scoped>\n",
       "    .dataframe tbody tr th:only-of-type {\n",
       "        vertical-align: middle;\n",
       "    }\n",
       "\n",
       "    .dataframe tbody tr th {\n",
       "        vertical-align: top;\n",
       "    }\n",
       "\n",
       "    .dataframe thead th {\n",
       "        text-align: right;\n",
       "    }\n",
       "</style>\n",
       "<table border=\"1\" class=\"dataframe\">\n",
       "  <thead>\n",
       "    <tr style=\"text-align: right;\">\n",
       "      <th></th>\n",
       "      <th>School Mode</th>\n",
       "      <th>Number of Students</th>\n",
       "    </tr>\n",
       "  </thead>\n",
       "  <tbody>\n",
       "    <tr>\n",
       "      <th>0</th>\n",
       "      <td>Fully Remote</td>\n",
       "      <td>264000</td>\n",
       "    </tr>\n",
       "    <tr>\n",
       "      <th>1</th>\n",
       "      <td>Hybrid</td>\n",
       "      <td>736000</td>\n",
       "    </tr>\n",
       "    <tr>\n",
       "      <th>2</th>\n",
       "      <td>Unknown (Charter)</td>\n",
       "      <td>120000</td>\n",
       "    </tr>\n",
       "  </tbody>\n",
       "</table>\n",
       "</div>"
      ],
      "text/plain": [
       "         School Mode  Number of Students\n",
       "0       Fully Remote              264000\n",
       "1             Hybrid              736000\n",
       "2  Unknown (Charter)              120000"
      ]
     },
     "execution_count": 3,
     "metadata": {},
     "output_type": "execute_result"
    }
   ],
   "source": [
    "df.head()\n"
   ]
  },
  {
   "cell_type": "code",
   "execution_count": 7,
   "id": "b41b1f1d",
   "metadata": {},
   "outputs": [],
   "source": [
    "df.to_csv('school_modes.csv',  index=False)"
   ]
  },
  {
   "cell_type": "code",
   "execution_count": 5,
   "id": "14d241b4",
   "metadata": {},
   "outputs": [
    {
     "data": {
      "text/html": [
       "<div>\n",
       "<style scoped>\n",
       "    .dataframe tbody tr th:only-of-type {\n",
       "        vertical-align: middle;\n",
       "    }\n",
       "\n",
       "    .dataframe tbody tr th {\n",
       "        vertical-align: top;\n",
       "    }\n",
       "\n",
       "    .dataframe thead th {\n",
       "        text-align: right;\n",
       "    }\n",
       "</style>\n",
       "<table border=\"1\" class=\"dataframe\">\n",
       "  <thead>\n",
       "    <tr style=\"text-align: right;\">\n",
       "      <th></th>\n",
       "      <th>Sample Date</th>\n",
       "      <th>Test Date</th>\n",
       "      <th>WRRF Name</th>\n",
       "      <th>Gene Copies (N1/L)</th>\n",
       "      <th>Per Capita Gene Copies</th>\n",
       "      <th>Population Served, estimated</th>\n",
       "      <th>School Status</th>\n",
       "      <th>School-Aged Population</th>\n",
       "      <th>Season</th>\n",
       "      <th>Holiday</th>\n",
       "    </tr>\n",
       "  </thead>\n",
       "  <tbody>\n",
       "    <tr>\n",
       "      <th>0</th>\n",
       "      <td>2020-08-31</td>\n",
       "      <td>09/01/2020</td>\n",
       "      <td>26th Ward</td>\n",
       "      <td>389.0</td>\n",
       "      <td>263535.64</td>\n",
       "      <td>290608</td>\n",
       "      <td>Summer Break_1</td>\n",
       "      <td>72091.0</td>\n",
       "      <td>Summer 2020</td>\n",
       "      <td>0</td>\n",
       "    </tr>\n",
       "    <tr>\n",
       "      <th>1</th>\n",
       "      <td>2020-08-31</td>\n",
       "      <td>09/01/2020</td>\n",
       "      <td>Bowery Bay</td>\n",
       "      <td>1204.0</td>\n",
       "      <td>443632.86</td>\n",
       "      <td>924695</td>\n",
       "      <td>Summer Break_1</td>\n",
       "      <td>122994.0</td>\n",
       "      <td>Summer 2020</td>\n",
       "      <td>0</td>\n",
       "    </tr>\n",
       "    <tr>\n",
       "      <th>2</th>\n",
       "      <td>2020-08-31</td>\n",
       "      <td>09/01/2020</td>\n",
       "      <td>Coney Island</td>\n",
       "      <td>304.0</td>\n",
       "      <td>168551.56</td>\n",
       "      <td>682342</td>\n",
       "      <td>Summer Break_1</td>\n",
       "      <td>117865.0</td>\n",
       "      <td>Summer 2020</td>\n",
       "      <td>0</td>\n",
       "    </tr>\n",
       "    <tr>\n",
       "      <th>3</th>\n",
       "      <td>2020-08-31</td>\n",
       "      <td>09/01/2020</td>\n",
       "      <td>Hunts Point</td>\n",
       "      <td>940.0</td>\n",
       "      <td>574446.57</td>\n",
       "      <td>755948</td>\n",
       "      <td>Summer Break_1</td>\n",
       "      <td>151282.0</td>\n",
       "      <td>Summer 2020</td>\n",
       "      <td>0</td>\n",
       "    </tr>\n",
       "    <tr>\n",
       "      <th>4</th>\n",
       "      <td>2020-08-31</td>\n",
       "      <td>09/01/2020</td>\n",
       "      <td>Jamaica Bay</td>\n",
       "      <td>632.0</td>\n",
       "      <td>233077.74</td>\n",
       "      <td>748737</td>\n",
       "      <td>Summer Break_1</td>\n",
       "      <td>131881.0</td>\n",
       "      <td>Summer 2020</td>\n",
       "      <td>0</td>\n",
       "    </tr>\n",
       "  </tbody>\n",
       "</table>\n",
       "</div>"
      ],
      "text/plain": [
       "  Sample Date   Test Date     WRRF Name  Gene Copies (N1/L)  \\\n",
       "0  2020-08-31  09/01/2020     26th Ward               389.0   \n",
       "1  2020-08-31  09/01/2020    Bowery Bay              1204.0   \n",
       "2  2020-08-31  09/01/2020  Coney Island               304.0   \n",
       "3  2020-08-31  09/01/2020   Hunts Point               940.0   \n",
       "4  2020-08-31  09/01/2020   Jamaica Bay               632.0   \n",
       "\n",
       "   Per Capita Gene Copies  Population Served, estimated   School Status  \\\n",
       "0               263535.64                        290608  Summer Break_1   \n",
       "1               443632.86                        924695  Summer Break_1   \n",
       "2               168551.56                        682342  Summer Break_1   \n",
       "3               574446.57                        755948  Summer Break_1   \n",
       "4               233077.74                        748737  Summer Break_1   \n",
       "\n",
       "   School-Aged Population       Season  Holiday  \n",
       "0                 72091.0  Summer 2020        0  \n",
       "1                122994.0  Summer 2020        0  \n",
       "2                117865.0  Summer 2020        0  \n",
       "3                151282.0  Summer 2020        0  \n",
       "4                131881.0  Summer 2020        0  "
      ]
     },
     "execution_count": 5,
     "metadata": {},
     "output_type": "execute_result"
    }
   ],
   "source": [
    "extract = pd.read_csv('data/pre_omi.csv')\n",
    "extract.head()"
   ]
  },
  {
   "cell_type": "code",
   "execution_count": null,
   "id": "8a5f76c7",
   "metadata": {},
   "outputs": [],
   "source": []
  }
 ],
 "metadata": {
  "kernelspec": {
   "display_name": "Python (MCMPrime)",
   "language": "python",
   "name": "mcmprime"
  },
  "language_info": {
   "codemirror_mode": {
    "name": "ipython",
    "version": 3
   },
   "file_extension": ".py",
   "mimetype": "text/x-python",
   "name": "python",
   "nbconvert_exporter": "python",
   "pygments_lexer": "ipython3",
   "version": "3.11.4"
  }
 },
 "nbformat": 4,
 "nbformat_minor": 5
}
